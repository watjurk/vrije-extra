{
 "cells": [
  {
   "cell_type": "code",
   "execution_count": 1,
   "metadata": {},
   "outputs": [],
   "source": [
    "import torch\n",
    "import torch.nn as nn\n",
    "\n",
    "import torch.utils.data.dataloader\n",
    "import torchvision\n",
    "import torchsummary\n",
    "\n",
    "import matplotlib.pyplot as plt\n",
    "import ipywidgets\n",
    "\n",
    "\n",
    "from fastprogress.fastprogress import master_bar, progress_bar"
   ]
  },
  {
   "cell_type": "code",
   "execution_count": 2,
   "metadata": {},
   "outputs": [],
   "source": [
    "batch_size = 64"
   ]
  },
  {
   "cell_type": "code",
   "execution_count": 3,
   "metadata": {},
   "outputs": [],
   "source": [
    "transforms = torchvision.transforms.Compose(\n",
    "    [\n",
    "        torchvision.transforms.ToTensor(),\n",
    "    ]\n",
    ")\n",
    "\n",
    "dataset = torchvision.datasets.MNIST(\"~/pytorch/data\", train=True, transform=transforms)\n",
    "data_loader = torch.utils.data.dataloader.DataLoader(dataset, shuffle=True, batch_size=batch_size)"
   ]
  },
  {
   "cell_type": "code",
   "execution_count": 4,
   "metadata": {},
   "outputs": [
    {
     "name": "stdout",
     "output_type": "stream",
     "text": [
      "tensor(1.) tensor(0.)\n"
     ]
    }
   ],
   "source": [
    "data_iter = iter(data_loader)\n",
    "data_x, data_y = next(data_iter)\n",
    "print(torch.max(data_x), torch.min(data_x))"
   ]
  },
  {
   "cell_type": "code",
   "execution_count": 5,
   "metadata": {},
   "outputs": [
    {
     "data": {
      "image/png": "[encoded data removed]",
      "text/plain": [
       "<Figure size 900x400 with 12 Axes>"
      ]
     },
     "metadata": {},
     "output_type": "display_data"
    }
   ],
   "source": [
    "num_col = 6\n",
    "num_row = 2\n",
    "\n",
    "_, axs = plt.subplots(num_row, num_col, figsize=(1.5 * num_col, 2 * num_row))\n",
    "for i, ax in enumerate(axs.flatten()):\n",
    "    img = data_x[i].squeeze()\n",
    "    ax.set_title(f\"Label: {data_y[i].item()}\")\n",
    "    ax.imshow(img, cmap=\"grey\")\n",
    "    ax.set_axis_off()\n",
    "\n",
    "plt.show()"
   ]
  },
  {
   "cell_type": "code",
   "execution_count": 6,
   "metadata": {},
   "outputs": [],
   "source": [
    "class Autoencoder(nn.Module):\n",
    "    def __init__(self):\n",
    "        super().__init__()\n",
    "\n",
    "        self.encoder = nn.Sequential(\n",
    "            nn.Flatten(),\n",
    "            nn.Linear(784, 196),\n",
    "            nn.ReLU(),\n",
    "            nn.Linear(196, 49),\n",
    "            nn.ReLU(),\n",
    "            nn.Linear(49, 12),\n",
    "            nn.ReLU(),\n",
    "            nn.Linear(12, 6),\n",
    "            nn.ReLU(),\n",
    "        )\n",
    "\n",
    "        self.decoder = nn.Sequential(\n",
    "            nn.Linear(6, 12),\n",
    "            nn.ReLU(),\n",
    "            nn.Linear(12, 49),\n",
    "            nn.ReLU(),\n",
    "            nn.Linear(49, 196),\n",
    "            nn.ReLU(),\n",
    "            nn.Linear(196, 784),\n",
    "            nn.Unflatten(-1, (1, 28, 28))\n",
    "        )\n",
    "\n",
    "    def forward(self, x):\n",
    "        encoded = self.encoder(x)\n",
    "        decoded = self.decoder(encoded)\n",
    "        return decoded"
   ]
  },
  {
   "cell_type": "code",
   "execution_count": 7,
   "metadata": {},
   "outputs": [
    {
     "name": "stdout",
     "output_type": "stream",
     "text": [
      "----------------------------------------------------------------\n",
      "        Layer (type)               Output Shape         Param #\n",
      "================================================================\n",
      "           Flatten-1                  [-1, 784]               0\n",
      "            Linear-2                  [-1, 196]         153,860\n",
      "              ReLU-3                  [-1, 196]               0\n",
      "            Linear-4                   [-1, 49]           9,653\n",
      "              ReLU-5                   [-1, 49]               0\n",
      "            Linear-6                   [-1, 12]             600\n",
      "              ReLU-7                   [-1, 12]               0\n",
      "            Linear-8                    [-1, 6]              78\n",
      "              ReLU-9                    [-1, 6]               0\n",
      "           Linear-10                   [-1, 12]              84\n",
      "             ReLU-11                   [-1, 12]               0\n",
      "           Linear-12                   [-1, 49]             637\n",
      "             ReLU-13                   [-1, 49]               0\n",
      "           Linear-14                  [-1, 196]           9,800\n",
      "             ReLU-15                  [-1, 196]               0\n",
      "           Linear-16                  [-1, 784]         154,448\n",
      "        Unflatten-17            [-1, 1, 28, 28]               0\n",
      "================================================================\n",
      "Total params: 329,160\n",
      "Trainable params: 329,160\n",
      "Non-trainable params: 0\n",
      "----------------------------------------------------------------\n",
      "Input size (MB): 0.00\n",
      "Forward/backward pass size (MB): 0.03\n",
      "Params size (MB): 1.26\n",
      "Estimated Total Size (MB): 1.28\n",
      "----------------------------------------------------------------\n"
     ]
    }
   ],
   "source": [
    "model = Autoencoder()\n",
    "torchsummary.summary(model, input_size=data_x[0].shape)"
   ]
  },
  {
   "cell_type": "code",
   "execution_count": 8,
   "metadata": {},
   "outputs": [
    {
     "data": {
      "text/html": [
       "\n",
       "<style>\n",
       "    /* Turns off some styling */\n",
       "    progress {\n",
       "        /* gets rid of default border in Firefox and Opera. */\n",
       "        border: none;\n",
       "        /* Needs to be in here for Safari polyfill so background images work as expected. */\n",
       "        background-size: auto;\n",
       "    }\n",
       "    progress:not([value]), progress:not([value])::-webkit-progress-bar {\n",
       "        background: repeating-linear-gradient(45deg, #7e7e7e, #7e7e7e 10px, #5c5c5c 10px, #5c5c5c 20px);\n",
       "    }\n",
       "    .progress-bar-interrupted, .progress-bar-interrupted::-webkit-progress-bar {\n",
       "        background: #F44336;\n",
       "    }\n",
       "</style>\n"
      ],
      "text/plain": [
       "<IPython.core.display.HTML object>"
      ]
     },
     "metadata": {},
     "output_type": "display_data"
    },
    {
     "data": {
      "text/html": [],
      "text/plain": [
       "<IPython.core.display.HTML object>"
      ]
     },
     "metadata": {},
     "output_type": "display_data"
    }
   ],
   "source": [
    "optimizer = torch.optim.Adam(model.parameters(), lr=0.001)\n",
    "loss_function = torch.nn.MSELoss()\n",
    "\n",
    "epochs = 20\n",
    "for epoch in (mb := master_bar(range(epochs))):\n",
    "    for (bach_of_data_images, _) in (pb := progress_bar(data_loader, parent=mb)):\n",
    "        true_images = bach_of_data_images\n",
    "        predicted = model(true_images)\n",
    "\n",
    "        loss = loss_function(predicted, true_images)\n",
    "        pb.comment = f\"Loss: {loss.item()}\"\n",
    "        optimizer.zero_grad()\n",
    "        loss.backward()\n",
    "        optimizer.step()"
   ]
  },
  {
   "cell_type": "code",
   "execution_count": 9,
   "metadata": {},
   "outputs": [
    {
     "data": {
      "image/png": "[encoded data removed]",
      "text/plain": [
       "<Figure size 900x200 with 6 Axes>"
      ]
     },
     "metadata": {},
     "output_type": "display_data"
    },
    {
     "data": {
      "image/png": "[encoded data removed]",
      "text/plain": [
       "<Figure size 900x200 with 6 Axes>"
      ]
     },
     "metadata": {},
     "output_type": "display_data"
    }
   ],
   "source": [
    "data_iter = iter(data_loader)\n",
    "data_x, data_y = next(data_iter)\n",
    "\n",
    "num_col = 6\n",
    "num_row = 1\n",
    "\n",
    "def plot_images(data_x):\n",
    "    _, axs = plt.subplots(num_row, num_col, figsize=(1.5 * num_col, 2 * num_row))\n",
    "    for i, ax in enumerate(axs.flatten()):\n",
    "        img = data_x[i].squeeze()\n",
    "        ax.set_title(f\"Label: {data_y[i].item()}\")\n",
    "        ax.imshow(img, cmap=\"grey\")\n",
    "        ax.set_axis_off()\n",
    "\n",
    "    plt.show()\n",
    "\n",
    "plot_images(data_x)\n",
    "plot_images(model(data_x).detach().numpy())"
   ]
  },
  {
   "cell_type": "code",
   "execution_count": 10,
   "metadata": {},
   "outputs": [
    {
     "name": "stdout",
     "output_type": "stream",
     "text": [
      "tensor(10.0249, grad_fn=<MaxBackward1>) tensor(0., grad_fn=<MinBackward1>)\n"
     ]
    }
   ],
   "source": [
    "data_iter = iter(data_loader)\n",
    "data_x, data_y = next(data_iter)\n",
    "encoded = model.encoder(data_x)\n",
    "print(torch.max(encoded), torch.min(encoded))\n",
    "# Max ~ 13.5\n",
    "# Min = 0"
   ]
  },
  {
   "cell_type": "markdown",
   "metadata": {},
   "source": [
    "This is the place where you can play with the model!"
   ]
  },
  {
   "cell_type": "code",
   "execution_count": 11,
   "metadata": {},
   "outputs": [
    {
     "data": {
      "application/vnd.jupyter.widget-view+json": {
       "model_id": "65b29f4691d444a28a33d766a04ba3c5",
       "version_major": 2,
       "version_minor": 0
      },
      "text/plain": [
       "interactive(children=(FloatSlider(value=6.7, description='E0', max=13.5), FloatSlider(value=6.7, description='…"
      ]
     },
     "metadata": {},
     "output_type": "display_data"
    },
    {
     "data": {
      "text/plain": [
       "<function __main__.update(E0, E1, E2, E3, E4, E5)>"
      ]
     },
     "execution_count": 11,
     "metadata": {},
     "output_type": "execute_result"
    }
   ],
   "source": [
    "eir = encoded_ipywidget_range = (0, 13.5, 0.1)\n",
    "\n",
    "def update(E0, E1, E2, E3, E4, E5):\n",
    "    encoded = torch.tensor([E0, E1, E2, E3, E4, E5]).reshape(1, 6)\n",
    "    decoded_image = model.decoder(encoded)\n",
    "    plt.imshow(decoded_image.detach().numpy()[0][0], cmap=\"grey\")\n",
    "\n",
    "\n",
    "ipywidgets.interact(update, E0=eir, E1=eir, E2=eir, E3=eir, E4=eir, E5=eir)"
   ]
  }
 ],
 "metadata": {
  "kernelspec": {
   "display_name": "Python 3",
   "language": "python",
   "name": "python3"
  },
  "language_info": {
   "codemirror_mode": {
    "name": "ipython",
    "version": 3
   },
   "file_extension": ".py",
   "mimetype": "text/x-python",
   "name": "python",
   "nbconvert_exporter": "python",
   "pygments_lexer": "ipython3",
   "version": "3.11.6"
  }
 },
 "nbformat": 4,
 "nbformat_minor": 2
}
