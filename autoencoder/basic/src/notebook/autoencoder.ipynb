{
 "cells": [
  {
   "cell_type": "code",
   "execution_count": 1,
   "metadata": {},
   "outputs": [],
   "source": [
    "import torch\n",
    "import torch.nn as nn\n",
    "\n",
    "import torch.utils.data\n",
    "from torch.utils.data.dataloader import DataLoader\n",
    "\n",
    "\n",
    "import matplotlib.pyplot as plt\n",
    "import ipywidgets\n",
    "\n",
    "from fastprogress.fastprogress import master_bar, progress_bar\n",
    "\n",
    "import sys\n",
    "import os\n",
    "from pathlib import Path"
   ]
  },
  {
   "cell_type": "code",
   "execution_count": 2,
   "metadata": {},
   "outputs": [],
   "source": [
    "batch_size = 64\n",
    "number_of_layers = 4\n",
    "latent_space_size = 2\n",
    "epochs = 40\n",
    "learning_rate = 0.001\n",
    "\n",
    "# config = {\n",
    "#     \"batch_size\": batch_size,\n",
    "#     \"number_of_layers\": number_of_layers,\n",
    "#     \"latent_space_size\": latent_space_size,\n",
    "#     \"epochs\": epochs,\n",
    "#     \"learning_rate\": learning_rate,\n",
    "# }\n",
    "\n",
    "# wandb.init(project=\"wiktor-vrije-learn.autoencoder.basic\", config=config, save_code=False)"
   ]
  },
  {
   "cell_type": "code",
   "execution_count": 3,
   "metadata": {},
   "outputs": [],
   "source": [
    "# For now I will do this using relative imports.\n",
    "# Then I will switch to Hydra.\n",
    "# TODO: switch to Hydra.\n",
    "sys.path.append(str(Path(os.path.abspath('')).parent.joinpath(\"data\")))\n",
    "\n",
    "from MNIST import load_mnist_dataset\n",
    "\n",
    "dataset, (train_data_loader, validation_data_loader, test_data_loader) = load_mnist_dataset(batch_size)"
   ]
  },
  {
   "cell_type": "code",
   "execution_count": 4,
   "metadata": {},
   "outputs": [
    {
     "name": "stdout",
     "output_type": "stream",
     "text": [
      "tensor(1.) tensor(0.)\n"
     ]
    }
   ],
   "source": [
    "data_iter = iter(dataset)\n",
    "data_x, data_y = next(data_iter)\n",
    "print(torch.max(data_x), torch.min(data_x))"
   ]
  },
  {
   "cell_type": "code",
   "execution_count": 5,
   "metadata": {},
   "outputs": [
    {
     "data": {
      "image/png": "[encoded data removed]",
      "text/plain": [
       "<Figure size 900x400 with 12 Axes>"
      ]
     },
     "metadata": {},
     "output_type": "display_data"
    }
   ],
   "source": [
    "num_col = 6\n",
    "num_row = 2\n",
    "offset = 0\n",
    "\n",
    "data_iter = iter(dataset)\n",
    "for _ in range(offset):\n",
    "    next(data_iter)\n",
    "\n",
    "\n",
    "_, axs = plt.subplots(num_row, num_col, figsize=(1.5 * num_col, 2 * num_row))\n",
    "for i, ax in enumerate(axs.flatten()):\n",
    "    data_x, data_y = next(data_iter)\n",
    "\n",
    "    img = data_x.squeeze()\n",
    "    ax.set_title(f\"Label: {data_y}\")\n",
    "    ax.imshow(img, cmap=\"grey\")\n",
    "    ax.set_axis_off()\n",
    "\n",
    "plt.show()"
   ]
  },
  {
   "cell_type": "code",
   "execution_count": 6,
   "metadata": {},
   "outputs": [],
   "source": [
    "# For now I will do this using relative imports.\n",
    "# Then I will switch to Hydra.\n",
    "# TODO: switch to Hydra.\n",
    "sys.path.append(str(Path(os.path.abspath('')).parent.joinpath(\"model\")))\n",
    "\n",
    "from MNISTAutoencoder import MNISTAutoencoder"
   ]
  },
  {
   "cell_type": "code",
   "execution_count": 7,
   "metadata": {},
   "outputs": [],
   "source": [
    "model = MNISTAutoencoder(latent_space_size, number_of_layers)\n",
    "# wandb.watch(model)"
   ]
  },
  {
   "cell_type": "code",
   "execution_count": 8,
   "metadata": {},
   "outputs": [
    {
     "name": "stdout",
     "output_type": "stream",
     "text": [
      "Training model: MNISTAutoencoder:\n",
      "    Latent size: 2, Layers count: 4\n"
     ]
    },
    {
     "data": {
      "text/html": [
       "\n",
       "<style>\n",
       "    /* Turns off some styling */\n",
       "    progress {\n",
       "        /* gets rid of default border in Firefox and Opera. */\n",
       "        border: none;\n",
       "        /* Needs to be in here for Safari polyfill so background images work as expected. */\n",
       "        background-size: auto;\n",
       "    }\n",
       "    progress:not([value]), progress:not([value])::-webkit-progress-bar {\n",
       "        background: repeating-linear-gradient(45deg, #7e7e7e, #7e7e7e 10px, #5c5c5c 10px, #5c5c5c 20px);\n",
       "    }\n",
       "    .progress-bar-interrupted, .progress-bar-interrupted::-webkit-progress-bar {\n",
       "        background: #F44336;\n",
       "    }\n",
       "</style>\n"
      ],
      "text/plain": [
       "<IPython.core.display.HTML object>"
      ]
     },
     "metadata": {},
     "output_type": "display_data"
    },
    {
     "data": {
      "text/html": [],
      "text/plain": [
       "<IPython.core.display.HTML object>"
      ]
     },
     "metadata": {},
     "output_type": "display_data"
    },
    {
     "data": {
      "text/plain": [
       "0"
      ]
     },
     "execution_count": 8,
     "metadata": {},
     "output_type": "execute_result"
    }
   ],
   "source": [
    "# For now I will do this using relative imports.\n",
    "# Then I will switch to Hydra.\n",
    "# TODO: switch to Hydra.\n",
    "sys.path.append(str(Path(os.path.abspath('')).parent))\n",
    "\n",
    "from train import train_model\n",
    "\n",
    "\n",
    "print(f\"Training model: {model}\")\n",
    "\n",
    "\n",
    "model.train()\n",
    "train_model(model, learning_rate, epochs, train_data_loader)\n",
    "\n",
    "model.eval()\n",
    "0"
   ]
  },
  {
   "cell_type": "code",
   "execution_count": 9,
   "metadata": {},
   "outputs": [
    {
     "name": "stdout",
     "output_type": "stream",
     "text": [
      "Validation loss: 0.035747457295656204\n",
      "Test loss: 0.03627412021160126\n",
      "For model MNISTAutoencoder:\n",
      "    Latent size: 2, Layers count: 4\n",
      "\n"
     ]
    }
   ],
   "source": [
    "# For now I will do this using relative imports.\n",
    "# Then I will switch to Hydra.\n",
    "# TODO: switch to Hydra.\n",
    "sys.path.append(str(Path(os.path.abspath('')).parent))\n",
    "\n",
    "from evaluate import evaluate_model\n",
    "\n",
    "\n",
    "validation_loss = evaluate_model(model, validation_data_loader)\n",
    "test_loss = evaluate_model(model, test_data_loader)\n",
    "\n",
    "print(f\"Validation loss: {validation_loss}\")\n",
    "print(f\"Test loss: {test_loss}\")\n",
    "print(f\"For model {model}\")\n",
    "print()"
   ]
  },
  {
   "cell_type": "code",
   "execution_count": 10,
   "metadata": {},
   "outputs": [
    {
     "data": {
      "image/png": "[encoded data removed]",
      "text/plain": [
       "<Figure size 900x200 with 6 Axes>"
      ]
     },
     "metadata": {},
     "output_type": "display_data"
    },
    {
     "data": {
      "image/png": "[encoded data removed]",
      "text/plain": [
       "<Figure size 900x200 with 6 Axes>"
      ]
     },
     "metadata": {},
     "output_type": "display_data"
    }
   ],
   "source": [
    "from random import randint\n",
    "\n",
    "data_iter = iter(test_data_loader)\n",
    "offset = randint(0, 10)\n",
    "num_col = 6\n",
    "num_row = 1\n",
    "\n",
    "for _ in range(offset):\n",
    "    next(data_iter)\n",
    "data_x, data_y = next(data_iter)\n",
    "\n",
    "\n",
    "def plot_images(data_x, title=None):\n",
    "    fig, axs = plt.subplots(num_row, num_col, figsize=(1.5 * num_col, 2 * num_row))\n",
    "    if title:\n",
    "        fig.suptitle(title, fontsize=7)\n",
    "\n",
    "    for i, ax in enumerate(axs.flatten()):\n",
    "        img = data_x[i].squeeze()\n",
    "        ax.set_title(f\"Label: {data_y[i]}\")\n",
    "\n",
    "        ax.imshow(img, cmap=\"grey\")\n",
    "        ax.set_axis_off()\n",
    "\n",
    "    plt.show()\n",
    "\n",
    "\n",
    "plot_images(data_x)\n",
    "plot_images(model(data_x).detach().numpy(), str(model))"
   ]
  },
  {
   "cell_type": "markdown",
   "metadata": {},
   "source": [
    "This is the place where you can play with the model!"
   ]
  },
  {
   "cell_type": "code",
   "execution_count": 11,
   "metadata": {},
   "outputs": [
    {
     "data": {
      "application/vnd.jupyter.widget-view+json": {
       "model_id": "793493b56017424a82416bfc1a3f30e9",
       "version_major": 2,
       "version_minor": 0
      },
      "text/plain": [
       "interactive(children=(FloatSlider(value=0.0, description='P1', max=1.0, step=0.001), FloatSlider(value=0.0, de…"
      ]
     },
     "metadata": {},
     "output_type": "display_data"
    }
   ],
   "source": [
    "# We used the sigmoid function, so the repr in the latent space is between 0 and 1.\n",
    "eir = latent_space_ipywidgets_range = (0, 1, 0.001)\n",
    "\n",
    "\n",
    "def play_with_model(model: MNISTAutoencoder):\n",
    "    latent_space_params_dict = {}\n",
    "    for i in range(model.latent_space_size):\n",
    "        latent_space_params_dict[f\"P{i+1}\"] = eir\n",
    "\n",
    "    def update(**kwargs):\n",
    "        latent_space_array = list(kwargs.values())\n",
    "        encoded = torch.tensor(latent_space_array).reshape(1, model.latent_space_size)\n",
    "        decoded_image = model.decoder(encoded)\n",
    "        plt.imshow(decoded_image.detach().numpy()[0][0], cmap=\"grey\")\n",
    "\n",
    "    ipywidgets.interact(update, **latent_space_params_dict)\n",
    "\n",
    "\n",
    "play_with_model(model)"
   ]
  },
  {
   "cell_type": "code",
   "execution_count": null,
   "metadata": {},
   "outputs": [],
   "source": []
  }
 ],
 "metadata": {
  "kernelspec": {
   "display_name": "Python 3",
   "language": "python",
   "name": "python3"
  },
  "language_info": {
   "codemirror_mode": {
    "name": "ipython",
    "version": 3
   },
   "file_extension": ".py",
   "mimetype": "text/x-python",
   "name": "python",
   "nbconvert_exporter": "python",
   "pygments_lexer": "ipython3",
   "version": "3.11.6"
  }
 },
 "nbformat": 4,
 "nbformat_minor": 2
}
