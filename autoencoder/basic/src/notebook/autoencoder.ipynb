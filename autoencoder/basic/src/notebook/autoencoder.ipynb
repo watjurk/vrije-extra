{
 "cells": [
  {
   "cell_type": "code",
   "execution_count": 1,
   "metadata": {},
   "outputs": [],
   "source": [
    "import torch\n",
    "import torch.nn as nn\n",
    "\n",
    "import torch.utils.data\n",
    "from torch.utils.data.dataloader import DataLoader\n",
    "\n",
    "import torchvision\n",
    "import torchsummary\n",
    "\n",
    "import matplotlib.pyplot as plt\n",
    "import ipywidgets\n",
    "\n",
    "# import wandb\n",
    "\n",
    "from fastprogress.fastprogress import master_bar, progress_bar"
   ]
  },
  {
   "cell_type": "code",
   "execution_count": 2,
   "metadata": {},
   "outputs": [],
   "source": [
    "batch_size = 64\n",
    "number_of_layers = 2\n",
    "latent_space_size = 3\n",
    "epochs = 20\n",
    "learning_rate = 0.001\n",
    "\n",
    "# config = {\n",
    "#     \"batch_size\": batch_size,\n",
    "#     \"number_of_layers\": number_of_layers,\n",
    "#     \"latent_space_size\": latent_space_size,\n",
    "#     \"epochs\": epochs,\n",
    "#     \"learning_rate\": learning_rate,\n",
    "# }\n",
    "\n",
    "# wandb.init(project=\"wiktor-vrije-learn.autoencoder.basic\", config=config, save_code=False)"
   ]
  },
  {
   "cell_type": "code",
   "execution_count": 3,
   "metadata": {},
   "outputs": [],
   "source": [
    "transforms = torchvision.transforms.Compose(\n",
    "    [\n",
    "        torchvision.transforms.ToTensor(),\n",
    "    ]\n",
    ")\n",
    "\n",
    "dataset = torchvision.datasets.MNIST(\"~/pytorch/data\", train=True, transform=transforms)"
   ]
  },
  {
   "cell_type": "code",
   "execution_count": 4,
   "metadata": {},
   "outputs": [],
   "source": [
    "train_data, validation_data, test_data = torch.utils.data.random_split(dataset, [0.6, 0.2, 0.2])\n",
    "validation_data_loader, test_data_loader = DataLoader(validation_data, batch_size), DataLoader(test_data, batch_size)"
   ]
  },
  {
   "cell_type": "code",
   "execution_count": 5,
   "metadata": {},
   "outputs": [
    {
     "name": "stdout",
     "output_type": "stream",
     "text": [
      "tensor(1.) tensor(0.)\n"
     ]
    }
   ],
   "source": [
    "data_iter = iter(dataset)\n",
    "data_x, data_y = next(data_iter)\n",
    "print(torch.max(data_x), torch.min(data_x))"
   ]
  },
  {
   "cell_type": "code",
   "execution_count": 6,
   "metadata": {},
   "outputs": [
    {
     "data": {
      "image/png": "[encoded data removed]",
      "text/plain": [
       "<Figure size 900x400 with 12 Axes>"
      ]
     },
     "metadata": {},
     "output_type": "display_data"
    }
   ],
   "source": [
    "num_col = 6\n",
    "num_row = 2\n",
    "offset = 0\n",
    "\n",
    "data_iter = iter(dataset)\n",
    "for _ in range(offset):\n",
    "    next(data_iter)\n",
    "\n",
    "\n",
    "_, axs = plt.subplots(num_row, num_col, figsize=(1.5 * num_col, 2 * num_row))\n",
    "for i, ax in enumerate(axs.flatten()):\n",
    "    data_x, data_y = next(data_iter)\n",
    "\n",
    "    img = data_x.squeeze()\n",
    "    ax.set_title(f\"Label: {data_y}\")\n",
    "    ax.imshow(img, cmap=\"grey\")\n",
    "    ax.set_axis_off()\n",
    "\n",
    "plt.show()"
   ]
  },
  {
   "cell_type": "code",
   "execution_count": 7,
   "metadata": {},
   "outputs": [],
   "source": [
    "from typing import List\n",
    "\n",
    "\n",
    "class MNISTAutoencoder(nn.Module):\n",
    "    def __init__(self, latent_space_size: int, number_of_layers: int):\n",
    "        super().__init__()\n",
    "\n",
    "        self.input_size = 28 * 28\n",
    "        self.latent_space_size = latent_space_size\n",
    "        self.number_of_layers = number_of_layers\n",
    "\n",
    "        assert self.input_size > self.latent_space_size\n",
    "\n",
    "        # Sometimes we are unable to nicely divide the amount of compression we have to do\n",
    "        # between layers. We are left with a nasty decimal reminder.\n",
    "        # For example:\n",
    "        # latent_space_size = 6\n",
    "        # number_of_layers = 4\n",
    "        # (784 - 6) / 4 = 194,5\n",
    "        # We would need to compress the output by 194,5 on each layer. We can't have half of a neuron can we?\n",
    "        # In this loop we are trying to accumulate this reminder and distribute it weever possible.\n",
    "        # This way the amount of compression we do per-layer is ~constant.\n",
    "\n",
    "        reduce_by_n_features_per_layer = (self.input_size - self.latent_space_size) // self.number_of_layers\n",
    "        reduce_by_n_features_per_layer_reminder = (self.input_size - self.latent_space_size) / self.number_of_layers - reduce_by_n_features_per_layer\n",
    "\n",
    "        previous_layer_out_features = self.input_size\n",
    "        encoder_layers_out_features = []\n",
    "        reminder = 0\n",
    "        for _ in range(number_of_layers - 1):\n",
    "            reduce_by_n = reduce_by_n_features_per_layer\n",
    "            reminder += reduce_by_n_features_per_layer_reminder\n",
    "            if reminder >= 1:\n",
    "                reminder -= 1\n",
    "                reduce_by_n += 1\n",
    "\n",
    "            layer_out_features = previous_layer_out_features - reduce_by_n\n",
    "\n",
    "            previous_layer_out_features = layer_out_features\n",
    "            encoder_layers_out_features.append(layer_out_features)\n",
    "\n",
    "        # Regardless of the reminder logic, we want to have our latent space size set\n",
    "        # to what user intended.\n",
    "        encoder_layers_out_features.append(self.latent_space_size)\n",
    "\n",
    "        encoder_modules: List[nn.Module] = [\n",
    "            nn.Flatten(),\n",
    "        ]\n",
    "\n",
    "        previous_layer_out_features = self.input_size\n",
    "        for layer_out_features in encoder_layers_out_features:\n",
    "            encoder_modules.append(nn.Linear(previous_layer_out_features, layer_out_features))\n",
    "            previous_layer_out_features = layer_out_features\n",
    "\n",
    "            is_last_layer = layer_out_features == self.latent_space_size\n",
    "            if not is_last_layer:\n",
    "                encoder_modules.append(nn.ReLU())\n",
    "\n",
    "        encoder_modules.append(nn.Sigmoid())\n",
    "\n",
    "        decoder_modules: List[nn.Module] = []\n",
    "\n",
    "        decoder_layers_out_features = list(reversed(encoder_layers_out_features))\n",
    "        decoder_layers_out_features = decoder_layers_out_features[1:]\n",
    "        decoder_layers_out_features.append(self.input_size)\n",
    "\n",
    "        previous_layer_out_features = self.latent_space_size\n",
    "        for layer_out_features in decoder_layers_out_features:\n",
    "            decoder_modules.append(nn.Linear(previous_layer_out_features, layer_out_features))\n",
    "            previous_layer_out_features = layer_out_features\n",
    "\n",
    "            is_last_layer = layer_out_features == self.input_size\n",
    "            if not is_last_layer:\n",
    "                decoder_modules.append(nn.ReLU())\n",
    "\n",
    "        decoder_modules.append(nn.Unflatten(-1, (1, 28, 28)))\n",
    "\n",
    "        self.encoder = nn.Sequential(*encoder_modules)\n",
    "        self.decoder = nn.Sequential(*decoder_modules)\n",
    "\n",
    "    def __str__(self):\n",
    "        return f\"MNISTAutoencoder:\\n    Latent size: {self.latent_space_size}, Layers count: {self.number_of_layers}\"\n",
    "\n",
    "    def forward(self, x):\n",
    "        encoded = self.encoder(x)\n",
    "        decoded = self.decoder(encoded)\n",
    "        return decoded"
   ]
  },
  {
   "cell_type": "code",
   "execution_count": 8,
   "metadata": {},
   "outputs": [],
   "source": [
    "model = MNISTAutoencoder(latent_space_size, number_of_layers)\n",
    "# wandb.watch(model)"
   ]
  },
  {
   "cell_type": "code",
   "execution_count": 9,
   "metadata": {},
   "outputs": [
    {
     "name": "stdout",
     "output_type": "stream",
     "text": [
      "Training model: MNISTAutoencoder:\n",
      "    Latent size: 3, Layers count: 2\n"
     ]
    },
    {
     "data": {
      "text/html": [
       "\n",
       "<style>\n",
       "    /* Turns off some styling */\n",
       "    progress {\n",
       "        /* gets rid of default border in Firefox and Opera. */\n",
       "        border: none;\n",
       "        /* Needs to be in here for Safari polyfill so background images work as expected. */\n",
       "        background-size: auto;\n",
       "    }\n",
       "    progress:not([value]), progress:not([value])::-webkit-progress-bar {\n",
       "        background: repeating-linear-gradient(45deg, #7e7e7e, #7e7e7e 10px, #5c5c5c 10px, #5c5c5c 20px);\n",
       "    }\n",
       "    .progress-bar-interrupted, .progress-bar-interrupted::-webkit-progress-bar {\n",
       "        background: #F44336;\n",
       "    }\n",
       "</style>\n"
      ],
      "text/plain": [
       "<IPython.core.display.HTML object>"
      ]
     },
     "metadata": {},
     "output_type": "display_data"
    },
    {
     "data": {
      "text/html": [],
      "text/plain": [
       "<IPython.core.display.HTML object>"
      ]
     },
     "metadata": {},
     "output_type": "display_data"
    },
    {
     "data": {
      "text/plain": [
       "MNISTAutoencoder(\n",
       "  (encoder): Sequential(\n",
       "    (0): Flatten(start_dim=1, end_dim=-1)\n",
       "    (1): Linear(in_features=784, out_features=394, bias=True)\n",
       "    (2): ReLU()\n",
       "    (3): Linear(in_features=394, out_features=3, bias=True)\n",
       "    (4): Sigmoid()\n",
       "  )\n",
       "  (decoder): Sequential(\n",
       "    (0): Linear(in_features=3, out_features=394, bias=True)\n",
       "    (1): ReLU()\n",
       "    (2): Linear(in_features=394, out_features=784, bias=True)\n",
       "    (3): Unflatten(dim=-1, unflattened_size=(1, 28, 28))\n",
       "  )\n",
       ")"
      ]
     },
     "execution_count": 9,
     "metadata": {},
     "output_type": "execute_result"
    }
   ],
   "source": [
    "def calculate_loss(model, data_loader):\n",
    "    loss_function = torch.nn.MSELoss()\n",
    "\n",
    "    running_loss = 0\n",
    "    for images, _ in data_loader:\n",
    "        true_images = images\n",
    "        predicted_images = model(true_images)\n",
    "        running_loss += loss_function(predicted_images, true_images)\n",
    "\n",
    "    return running_loss / len(data_loader)\n",
    "\n",
    "\n",
    "def train_model(model: nn.Module, learning_rate, epochs, train_data_loader: DataLoader):\n",
    "    optimizer = torch.optim.Adam(model.parameters(), lr=learning_rate)\n",
    "    loss_function = torch.nn.MSELoss()\n",
    "\n",
    "    for epoch in (mb := master_bar(range(epochs))):\n",
    "        running_loss = 0\n",
    "        for bach_of_data_images, _ in (pb := progress_bar(train_data_loader, parent=mb)):\n",
    "            true_images = bach_of_data_images\n",
    "            predicted = model(true_images)\n",
    "\n",
    "            loss = loss_function(predicted, true_images)\n",
    "            loss_item = loss.item()\n",
    "            running_loss += loss_item\n",
    "            pb.comment = f\"Loss: {loss_item}\"\n",
    "\n",
    "            optimizer.zero_grad()\n",
    "            loss.backward()\n",
    "            optimizer.step()\n",
    "\n",
    "        # wandb.log(\n",
    "        #     {\n",
    "        #         \"epoch\": epoch,\n",
    "        #         \"loss\": running_loss / len(train_data_loader),\n",
    "        #         \"validation_loss\": calculate_loss(model, validation_data_loader),\n",
    "        #         \"test_loss\": calculate_loss(model, test_data_loader),\n",
    "        #     }\n",
    "        # )\n",
    "        running_loss = 0\n",
    "\n",
    "\n",
    "print(f\"Training model: {model}\")\n",
    "train_data_loader = DataLoader(train_data, shuffle=True, batch_size=batch_size)\n",
    "\n",
    "# Set model to training mode.\n",
    "model.train()\n",
    "train_model(model, learning_rate, epochs, train_data_loader)\n",
    "\n",
    "# Set model to evaluation mode.\n",
    "model.eval()"
   ]
  },
  {
   "cell_type": "code",
   "execution_count": 10,
   "metadata": {},
   "outputs": [
    {
     "name": "stdout",
     "output_type": "stream",
     "text": [
      "Validation loss: 0.03583773225545883\n",
      "Test loss: 0.03615976497530937\n",
      "For model MNISTAutoencoder:\n",
      "    Latent size: 3, Layers count: 2\n",
      "\n"
     ]
    }
   ],
   "source": [
    "validation_loss = calculate_loss(model, validation_data_loader)\n",
    "test_loss = calculate_loss(model, test_data_loader)\n",
    "\n",
    "print(f\"Validation loss: {validation_loss}\")\n",
    "print(f\"Test loss: {test_loss}\")\n",
    "print(f\"For model {model}\")\n",
    "print()"
   ]
  },
  {
   "cell_type": "code",
   "execution_count": 11,
   "metadata": {},
   "outputs": [
    {
     "data": {
      "image/png": "[encoded data removed]",
      "text/plain": [
       "<Figure size 900x200 with 6 Axes>"
      ]
     },
     "metadata": {},
     "output_type": "display_data"
    },
    {
     "data": {
      "image/png": "[encoded data removed]",
      "text/plain": [
       "<Figure size 900x200 with 6 Axes>"
      ]
     },
     "metadata": {},
     "output_type": "display_data"
    }
   ],
   "source": [
    "from random import randint\n",
    "\n",
    "data_iter = iter(test_data_loader)\n",
    "offset = randint(0, 10)\n",
    "num_col = 6\n",
    "num_row = 1\n",
    "\n",
    "for _ in range(offset):\n",
    "    next(data_iter)\n",
    "data_x, data_y = next(data_iter)\n",
    "\n",
    "\n",
    "def plot_images(data_x, title=None):\n",
    "    fig, axs = plt.subplots(num_row, num_col, figsize=(1.5 * num_col, 2 * num_row))\n",
    "    if title:\n",
    "        fig.suptitle(title, fontsize=7)\n",
    "\n",
    "    for i, ax in enumerate(axs.flatten()):\n",
    "        img = data_x[i].squeeze()\n",
    "        ax.set_title(f\"Label: {data_y[i]}\")\n",
    "\n",
    "        ax.imshow(img, cmap=\"grey\")\n",
    "        ax.set_axis_off()\n",
    "\n",
    "    plt.show()\n",
    "\n",
    "\n",
    "plot_images(data_x)\n",
    "plot_images(model(data_x).detach().numpy(), str(model))"
   ]
  },
  {
   "cell_type": "markdown",
   "metadata": {},
   "source": [
    "This is the place where you can play with the model!"
   ]
  },
  {
   "cell_type": "code",
   "execution_count": 12,
   "metadata": {},
   "outputs": [
    {
     "data": {
      "application/vnd.jupyter.widget-view+json": {
       "model_id": "44031a17b7274d599100ba719b0802c7",
       "version_major": 2,
       "version_minor": 0
      },
      "text/plain": [
       "interactive(children=(FloatSlider(value=0.0, description='P1', max=1.0, step=0.001), FloatSlider(value=0.0, de…"
      ]
     },
     "metadata": {},
     "output_type": "display_data"
    }
   ],
   "source": [
    "# We used the sigmoid function, so the repr in the latent space is between 0 and 1.\n",
    "eir = latent_space_ipywidgets_range = (0, 1, 0.001)\n",
    "\n",
    "\n",
    "def play_with_model(model: MNISTAutoencoder):\n",
    "    latent_space_params_dict = {}\n",
    "    for i in range(model.latent_space_size):\n",
    "        latent_space_params_dict[f\"P{i+1}\"] = eir\n",
    "\n",
    "    def update(**kwargs):\n",
    "        latent_space_array = list(kwargs.values())\n",
    "        encoded = torch.tensor(latent_space_array).reshape(1, model.latent_space_size)\n",
    "        decoded_image = model.decoder(encoded)\n",
    "        plt.imshow(decoded_image.detach().numpy()[0][0], cmap=\"grey\")\n",
    "\n",
    "    ipywidgets.interact(update, **latent_space_params_dict)\n",
    "\n",
    "\n",
    "play_with_model(model)"
   ]
  }
 ],
 "metadata": {
  "kernelspec": {
   "display_name": "Python 3",
   "language": "python",
   "name": "python3"
  },
  "language_info": {
   "codemirror_mode": {
    "name": "ipython",
    "version": 3
   },
   "file_extension": ".py",
   "mimetype": "text/x-python",
   "name": "python",
   "nbconvert_exporter": "python",
   "pygments_lexer": "ipython3",
   "version": "3.11.6"
  }
 },
 "nbformat": 4,
 "nbformat_minor": 2
}
