{
 "cells": [
  {
   "cell_type": "code",
   "execution_count": 10,
   "metadata": {},
   "outputs": [],
   "source": [
    "import numpy as np\n",
    "import matplotlib.pyplot as plt\n",
    "import ipywidgets\n",
    "import random"
   ]
  },
  {
   "cell_type": "code",
   "execution_count": 61,
   "metadata": {},
   "outputs": [
    {
     "data": {
      "application/vnd.jupyter.widget-view+json": {
       "model_id": "b8039c19da794c879d489b39b2e6094e",
       "version_major": 2,
       "version_minor": 0
      },
      "text/plain": [
       "interactive(children=(FloatSlider(value=0.0, description='mu', max=5.0, min=-5.0, step=0.0001), FloatSlider(va…"
      ]
     },
     "metadata": {},
     "output_type": "display_data"
    },
    {
     "data": {
      "text/plain": [
       "<function __main__.update(mu, sigma)>"
      ]
     },
     "execution_count": 61,
     "metadata": {},
     "output_type": "execute_result"
    }
   ],
   "source": [
    "def normal_probability_density(mu, sigma, x):\n",
    "    return 1 / (sigma * np.sqrt(2 * np.pi)) * np.exp(-((x - mu) ** 2) / (2 * sigma**2))\n",
    "\n",
    "\n",
    "x_min = -5\n",
    "x_max = 5\n",
    "number_of_sample = 10000\n",
    "number_of_hist_buckets = 50\n",
    "\n",
    "slider_step = 0.0001\n",
    "\n",
    "mu_range = (x_min, x_max, slider_step)\n",
    "sigma_range = (0.00001, 2, slider_step)\n",
    "\n",
    "\n",
    "def update(mu, sigma):\n",
    "    point_x = []\n",
    "    point_y = []\n",
    "    for i in np.arange(x_min, x_max, 0.01):\n",
    "        point_x.append(i)\n",
    "        point_y.append(normal_probability_density(mu, sigma, i))\n",
    "\n",
    "    samples = []\n",
    "    for _ in range(number_of_sample):\n",
    "        # TODO: How np.random.normal(0, 1) works\n",
    "        # This is done to mimic the reparametrization trick used in variational autoencoders.\n",
    "        x = np.random.normal(0, 1) * sigma + mu\n",
    "        samples.append(x)\n",
    "\n",
    "    plt.ylim((0, 1))\n",
    "    plt.xlim((x_min, x_max))\n",
    "\n",
    "    plt.hist(samples, number_of_hist_buckets, density=True)\n",
    "    plt.plot(point_x, point_y, linewidth=2, color=\"r\")\n",
    "    plt.show()\n",
    "\n",
    "\n",
    "ipywidgets.interact(update, mu=mu_range, sigma=sigma_range)"
   ]
  }
 ],
 "metadata": {
  "kernelspec": {
   "display_name": "Python 3",
   "language": "python",
   "name": "python3"
  },
  "language_info": {
   "codemirror_mode": {
    "name": "ipython",
    "version": 3
   },
   "file_extension": ".py",
   "mimetype": "text/x-python",
   "name": "python",
   "nbconvert_exporter": "python",
   "pygments_lexer": "ipython3",
   "version": "3.12.0"
  }
 },
 "nbformat": 4,
 "nbformat_minor": 2
}
